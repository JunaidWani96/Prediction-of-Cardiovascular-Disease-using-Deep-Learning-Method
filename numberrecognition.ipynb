{
  "nbformat": 4,
  "nbformat_minor": 0,
  "metadata": {
    "colab": {
      "provenance": [],
      "authorship_tag": "ABX9TyOHyUZK+kS8HYh/pV1rSR3I",
      "include_colab_link": true
    },
    "kernelspec": {
      "name": "python3",
      "display_name": "Python 3"
    },
    "language_info": {
      "name": "python"
    }
  },
  "cells": [
    {
      "cell_type": "markdown",
      "metadata": {
        "id": "view-in-github",
        "colab_type": "text"
      },
      "source": [
        "<a href=\"https://colab.research.google.com/github/JunaidWani96/Prediction-of-Cardiovascular-Disease-using-Deep-Learning-Method/blob/main/numberrecognition.ipynb\" target=\"_parent\"><img src=\"https://colab.research.google.com/assets/colab-badge.svg\" alt=\"Open In Colab\"/></a>"
      ]
    },
    {
      "cell_type": "code",
      "source": [
        "import keras\n",
        "from keras.datasets import mnist\n",
        "from keras.models import Sequential\n",
        "from keras.layers import Dense, Dropout, Flatten\n",
        "from keras.layers import Conv2D, MaxPooling2D\n",
        "import numpy as np\n",
        "import pandas as pd"
      ],
      "metadata": {
        "id": "KIbIlPaeReER"
      },
      "execution_count": null,
      "outputs": []
    },
    {
      "cell_type": "code",
      "source": [
        "# Load the MNIST dataset\n",
        "(x_train, y_train), (x_test, y_test) = mnist.load_data()"
      ],
      "metadata": {
        "id": "ExV1uKhBRlaP"
      },
      "execution_count": null,
      "outputs": []
    },
    {
      "cell_type": "code",
      "source": [
        "# Preparing data\n",
        "x_train = x_train.astype('float32') / 255.0\n",
        "x_test = x_test.astype('float32') / 255.0\n",
        "x_train = x_train.reshape(x_train.shape[0], 28, 28, 1)\n",
        "x_test = x_test.reshape(x_test.shape[0], 28, 28, 1)\n",
        "input_shape = (28, 28, 1)\n",
        "num_classes = 10\n",
        "y_train = keras.utils.to_categorical(y_train, num_classes)\n",
        "y_test = keras.utils.to_categorical(y_test, num_classes)"
      ],
      "metadata": {
        "id": "pJaf5DocRp4i"
      },
      "execution_count": null,
      "outputs": []
    },
    {
      "cell_type": "code",
      "source": [
        "# Building neural network\n",
        "model = Sequential()\n",
        "model.add(Conv2D(32, kernel_size=(3, 3),\n",
        "                 activation='relu',\n",
        "                 input_shape=input_shape))\n",
        "model.add(Conv2D(64, (3, 3), activation='relu'))\n",
        "model.add(MaxPooling2D(pool_size=(2, 2)))\n",
        "model.add(Dropout(0.25))\n",
        "model.add(Flatten())\n",
        "model.add(Dense(128, activation='relu'))\n",
        "model.add(Dropout(0.5))\n",
        "model.add(Dense(num_classes, activation='softmax'))"
      ],
      "metadata": {
        "id": "6QTfzlojRvDq"
      },
      "execution_count": null,
      "outputs": []
    },
    {
      "cell_type": "code",
      "source": [
        "# Compiling the model\n",
        "model.compile(loss=keras.losses.categorical_crossentropy,\n",
        "              optimizer=keras.optimizers.Adadelta(),\n",
        "              metrics=['accuracy'])\n"
      ],
      "metadata": {
        "id": "ku412LWLR1iP"
      },
      "execution_count": null,
      "outputs": []
    },
    {
      "cell_type": "code",
      "source": [
        "# Training the model\n",
        "model.fit(x_train, y_train,\n",
        "          batch_size=128,\n",
        "          epochs=12,\n",
        "          verbose=1,\n",
        "          validation_data=(x_test, y_test))"
      ],
      "metadata": {
        "colab": {
          "base_uri": "https://localhost:8080/"
        },
        "id": "bhsid1KcR5VP",
        "outputId": "982da44a-7b1f-404d-f53b-2ec19febc3fd"
      },
      "execution_count": null,
      "outputs": [
        {
          "output_type": "stream",
          "name": "stdout",
          "text": [
            "Epoch 1/12\n",
            "469/469 [==============================] - 110s 234ms/step - loss: 2.2876 - accuracy: 0.1552 - val_loss: 2.2525 - val_accuracy: 0.3326\n",
            "Epoch 2/12\n",
            "469/469 [==============================] - 111s 236ms/step - loss: 2.2305 - accuracy: 0.2757 - val_loss: 2.1826 - val_accuracy: 0.4358\n",
            "Epoch 3/12\n",
            "469/469 [==============================] - 110s 235ms/step - loss: 2.1564 - accuracy: 0.3676 - val_loss: 2.0859 - val_accuracy: 0.5349\n",
            "Epoch 4/12\n",
            "469/469 [==============================] - 110s 235ms/step - loss: 2.0544 - accuracy: 0.4345 - val_loss: 1.9543 - val_accuracy: 0.5970\n",
            "Epoch 5/12\n",
            "469/469 [==============================] - 109s 232ms/step - loss: 1.9196 - accuracy: 0.4879 - val_loss: 1.7830 - val_accuracy: 0.6441\n",
            "Epoch 6/12\n",
            "469/469 [==============================] - 110s 235ms/step - loss: 1.7553 - accuracy: 0.5361 - val_loss: 1.5787 - val_accuracy: 0.6971\n",
            "Epoch 7/12\n",
            "469/469 [==============================] - 109s 232ms/step - loss: 1.5775 - accuracy: 0.5755 - val_loss: 1.3653 - val_accuracy: 0.7352\n",
            "Epoch 8/12\n",
            "469/469 [==============================] - 110s 234ms/step - loss: 1.4080 - accuracy: 0.6098 - val_loss: 1.1728 - val_accuracy: 0.7663\n",
            "Epoch 9/12\n",
            "469/469 [==============================] - 110s 235ms/step - loss: 1.2669 - accuracy: 0.6377 - val_loss: 1.0166 - val_accuracy: 0.7914\n",
            "Epoch 10/12\n",
            "469/469 [==============================] - 108s 231ms/step - loss: 1.1542 - accuracy: 0.6609 - val_loss: 0.8958 - val_accuracy: 0.8102\n",
            "Epoch 11/12\n",
            "469/469 [==============================] - 108s 230ms/step - loss: 1.0619 - accuracy: 0.6801 - val_loss: 0.8037 - val_accuracy: 0.8242\n",
            "Epoch 12/12\n",
            "469/469 [==============================] - 108s 231ms/step - loss: 0.9874 - accuracy: 0.7007 - val_loss: 0.7323 - val_accuracy: 0.8343\n"
          ]
        },
        {
          "output_type": "execute_result",
          "data": {
            "text/plain": [
              "<keras.callbacks.History at 0x7efc321e0bb0>"
            ]
          },
          "metadata": {},
          "execution_count": 19
        }
      ]
    },
    {
      "cell_type": "code",
      "source": [
        "# Evaluatimg the performance of the model\n",
        "score = model.evaluate(x_test, y_test, verbose=0)\n",
        "print('Test loss:', score[0]*100)\n",
        "print('Test accuracy:', score[1]*100)\n"
      ],
      "metadata": {
        "colab": {
          "base_uri": "https://localhost:8080/"
        },
        "id": "_eMvJ611XA4A",
        "outputId": "3269991e-5145-4a1b-8d61-2b72dbc3cf63"
      },
      "execution_count": null,
      "outputs": [
        {
          "output_type": "stream",
          "name": "stdout",
          "text": [
            "Test loss: 73.22929501533508\n",
            "Test accuracy: 83.42999815940857\n"
          ]
        }
      ]
    }
  ]
}