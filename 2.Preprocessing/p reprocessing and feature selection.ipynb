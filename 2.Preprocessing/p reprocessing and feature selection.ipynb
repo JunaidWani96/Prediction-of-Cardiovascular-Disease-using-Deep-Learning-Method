{
 "cells": [
  {
   "cell_type": "markdown",
   "id": "b961eeea",
   "metadata": {},
   "source": [
    "<br>\n",
    "<br>\n",
    "<h1 align=\"center\">Data Pre processing and Feacture Extraction or selction </h1>\n",
    "<br>\n",
    "<br>"
   ]
  },
  {
   "cell_type": "code",
   "execution_count": null,
   "id": "6565be68",
   "metadata": {},
   "outputs": [],
   "source": []
  },
  {
   "cell_type": "code",
   "execution_count": null,
   "id": "d3e97806",
   "metadata": {},
   "outputs": [],
   "source": []
  },
  {
   "cell_type": "code",
   "execution_count": 4,
   "id": "a96928a3",
   "metadata": {},
   "outputs": [],
   "source": [
    "import pandas as pd\n",
    "import numpy as np\n",
    "import seaborn as sns\n",
    "import matplotlib.pyplot as plt\n",
    "import tensorflow as tf\n",
    "import keras\n",
    "from keras.models import Sequential\n",
    "from keras.layers import Dense\n",
    "from sklearn.metrics import confusion_matrix,accuracy_score\n",
    "from sklearn.preprocessing import StandardScaler,MinMaxScaler"
   ]
  },
  {
   "cell_type": "code",
   "execution_count": null,
   "id": "dad2af9b",
   "metadata": {},
   "outputs": [],
   "source": []
  },
  {
   "cell_type": "markdown",
   "id": "66c4640a",
   "metadata": {},
   "source": [
    "<br>\n",
    "<br>\n",
    "<h1 align=\"center\">Feacture Extraction or selction \n",
    "</h1>\n",
    "<hr>\n",
    "<br>\n",
    "<br>"
   ]
  },
  {
   "cell_type": "code",
   "execution_count": 6,
   "id": "ff12545f",
   "metadata": {},
   "outputs": [],
   "source": [
    "# importing dataset\n",
    "df=pd.read_csv('cleaned_dataset.csv')"
   ]
  },
  {
   "cell_type": "code",
   "execution_count": 7,
   "id": "a83a9bef",
   "metadata": {},
   "outputs": [
    {
     "data": {
      "text/html": [
       "<div>\n",
       "<style scoped>\n",
       "    .dataframe tbody tr th:only-of-type {\n",
       "        vertical-align: middle;\n",
       "    }\n",
       "\n",
       "    .dataframe tbody tr th {\n",
       "        vertical-align: top;\n",
       "    }\n",
       "\n",
       "    .dataframe thead th {\n",
       "        text-align: right;\n",
       "    }\n",
       "</style>\n",
       "<table border=\"1\" class=\"dataframe\">\n",
       "  <thead>\n",
       "    <tr style=\"text-align: right;\">\n",
       "      <th></th>\n",
       "      <th>Unnamed: 0</th>\n",
       "      <th>age</th>\n",
       "      <th>sex</th>\n",
       "      <th>chest pain type</th>\n",
       "      <th>resting bp s</th>\n",
       "      <th>cholesterol</th>\n",
       "      <th>fasting blood sugar</th>\n",
       "      <th>resting ecg</th>\n",
       "      <th>max heart rate</th>\n",
       "      <th>exercise angina</th>\n",
       "      <th>oldpeak</th>\n",
       "      <th>ST slope</th>\n",
       "      <th>target</th>\n",
       "    </tr>\n",
       "  </thead>\n",
       "  <tbody>\n",
       "    <tr>\n",
       "      <th>0</th>\n",
       "      <td>0</td>\n",
       "      <td>40</td>\n",
       "      <td>1</td>\n",
       "      <td>2</td>\n",
       "      <td>140</td>\n",
       "      <td>289</td>\n",
       "      <td>0</td>\n",
       "      <td>0</td>\n",
       "      <td>172</td>\n",
       "      <td>0</td>\n",
       "      <td>0.0</td>\n",
       "      <td>1.0</td>\n",
       "      <td>0</td>\n",
       "    </tr>\n",
       "    <tr>\n",
       "      <th>1</th>\n",
       "      <td>1</td>\n",
       "      <td>49</td>\n",
       "      <td>0</td>\n",
       "      <td>3</td>\n",
       "      <td>160</td>\n",
       "      <td>180</td>\n",
       "      <td>0</td>\n",
       "      <td>0</td>\n",
       "      <td>156</td>\n",
       "      <td>0</td>\n",
       "      <td>1.0</td>\n",
       "      <td>2.0</td>\n",
       "      <td>1</td>\n",
       "    </tr>\n",
       "    <tr>\n",
       "      <th>2</th>\n",
       "      <td>2</td>\n",
       "      <td>37</td>\n",
       "      <td>1</td>\n",
       "      <td>2</td>\n",
       "      <td>130</td>\n",
       "      <td>283</td>\n",
       "      <td>0</td>\n",
       "      <td>1</td>\n",
       "      <td>98</td>\n",
       "      <td>0</td>\n",
       "      <td>0.0</td>\n",
       "      <td>1.0</td>\n",
       "      <td>0</td>\n",
       "    </tr>\n",
       "    <tr>\n",
       "      <th>3</th>\n",
       "      <td>3</td>\n",
       "      <td>48</td>\n",
       "      <td>0</td>\n",
       "      <td>4</td>\n",
       "      <td>138</td>\n",
       "      <td>214</td>\n",
       "      <td>0</td>\n",
       "      <td>0</td>\n",
       "      <td>108</td>\n",
       "      <td>1</td>\n",
       "      <td>1.5</td>\n",
       "      <td>2.0</td>\n",
       "      <td>1</td>\n",
       "    </tr>\n",
       "    <tr>\n",
       "      <th>4</th>\n",
       "      <td>4</td>\n",
       "      <td>54</td>\n",
       "      <td>1</td>\n",
       "      <td>3</td>\n",
       "      <td>150</td>\n",
       "      <td>195</td>\n",
       "      <td>0</td>\n",
       "      <td>0</td>\n",
       "      <td>122</td>\n",
       "      <td>0</td>\n",
       "      <td>0.0</td>\n",
       "      <td>1.0</td>\n",
       "      <td>0</td>\n",
       "    </tr>\n",
       "  </tbody>\n",
       "</table>\n",
       "</div>"
      ],
      "text/plain": [
       "   Unnamed: 0  age  sex  chest pain type  resting bp s  cholesterol  \\\n",
       "0           0   40    1                2           140          289   \n",
       "1           1   49    0                3           160          180   \n",
       "2           2   37    1                2           130          283   \n",
       "3           3   48    0                4           138          214   \n",
       "4           4   54    1                3           150          195   \n",
       "\n",
       "   fasting blood sugar  resting ecg  max heart rate  exercise angina  oldpeak  \\\n",
       "0                    0            0             172                0      0.0   \n",
       "1                    0            0             156                0      1.0   \n",
       "2                    0            1              98                0      0.0   \n",
       "3                    0            0             108                1      1.5   \n",
       "4                    0            0             122                0      0.0   \n",
       "\n",
       "   ST slope  target  \n",
       "0       1.0       0  \n",
       "1       2.0       1  \n",
       "2       1.0       0  \n",
       "3       2.0       1  \n",
       "4       1.0       0  "
      ]
     },
     "execution_count": 7,
     "metadata": {},
     "output_type": "execute_result"
    }
   ],
   "source": [
    "df.head()"
   ]
  },
  {
   "cell_type": "code",
   "execution_count": 8,
   "id": "3fc54924",
   "metadata": {},
   "outputs": [],
   "source": [
    "# removing extra column from cleaned dataset\n",
    "del df['Unnamed: 0']"
   ]
  },
  {
   "cell_type": "code",
   "execution_count": null,
   "id": "6b10fa3e",
   "metadata": {},
   "outputs": [],
   "source": []
  },
  {
   "cell_type": "code",
   "execution_count": 9,
   "id": "5f01bab7",
   "metadata": {},
   "outputs": [
    {
     "data": {
      "text/plain": [
       "(918, 12)"
      ]
     },
     "execution_count": 9,
     "metadata": {},
     "output_type": "execute_result"
    }
   ],
   "source": [
    "df.shape"
   ]
  },
  {
   "cell_type": "code",
   "execution_count": 10,
   "id": "7ef0ff16",
   "metadata": {},
   "outputs": [
    {
     "data": {
      "text/plain": [
       "age                      int64\n",
       "sex                      int64\n",
       "chest pain type          int64\n",
       "resting bp s             int64\n",
       "cholesterol              int64\n",
       "fasting blood sugar      int64\n",
       "resting ecg              int64\n",
       "max heart rate           int64\n",
       "exercise angina          int64\n",
       "oldpeak                float64\n",
       "ST slope               float64\n",
       "target                   int64\n",
       "dtype: object"
      ]
     },
     "execution_count": 10,
     "metadata": {},
     "output_type": "execute_result"
    }
   ],
   "source": [
    "df.dtypes"
   ]
  },
  {
   "cell_type": "code",
   "execution_count": null,
   "id": "05ba6126",
   "metadata": {},
   "outputs": [],
   "source": []
  },
  {
   "cell_type": "markdown",
   "id": "aeffa2cf",
   "metadata": {},
   "source": [
    "<br>\n",
    "<h3>Converting Dataset into Input and output feature</h3>\n",
    "<hr>\n",
    "\n",
    "<br>"
   ]
  },
  {
   "cell_type": "code",
   "execution_count": 11,
   "id": "c19dd33b",
   "metadata": {},
   "outputs": [],
   "source": [
    "X=df.iloc[:,:-1]\n",
    "y=df.iloc[:,-1]"
   ]
  },
  {
   "cell_type": "code",
   "execution_count": 12,
   "id": "775a31d9",
   "metadata": {},
   "outputs": [
    {
     "data": {
      "text/plain": [
       "(918, 11)"
      ]
     },
     "execution_count": 12,
     "metadata": {},
     "output_type": "execute_result"
    }
   ],
   "source": [
    "X.shape"
   ]
  },
  {
   "cell_type": "code",
   "execution_count": 13,
   "id": "d64d6237",
   "metadata": {},
   "outputs": [
    {
     "data": {
      "text/plain": [
       "(918,)"
      ]
     },
     "execution_count": 13,
     "metadata": {},
     "output_type": "execute_result"
    }
   ],
   "source": [
    "y.shape"
   ]
  },
  {
   "cell_type": "code",
   "execution_count": null,
   "id": "424e8731",
   "metadata": {},
   "outputs": [],
   "source": []
  },
  {
   "cell_type": "code",
   "execution_count": null,
   "id": "0dd80925",
   "metadata": {},
   "outputs": [],
   "source": []
  },
  {
   "cell_type": "code",
   "execution_count": null,
   "id": "5aea8903",
   "metadata": {},
   "outputs": [],
   "source": []
  },
  {
   "cell_type": "code",
   "execution_count": null,
   "id": "63600c25",
   "metadata": {},
   "outputs": [],
   "source": []
  },
  {
   "cell_type": "code",
   "execution_count": null,
   "id": "b2e956f6",
   "metadata": {},
   "outputs": [],
   "source": []
  },
  {
   "cell_type": "code",
   "execution_count": null,
   "id": "23087102",
   "metadata": {},
   "outputs": [],
   "source": []
  },
  {
   "cell_type": "code",
   "execution_count": null,
   "id": "c090ebe2",
   "metadata": {},
   "outputs": [],
   "source": []
  },
  {
   "cell_type": "markdown",
   "id": "f40332ad",
   "metadata": {},
   "source": [
    "<br>\n",
    "<br>\n",
    "<h1 align=\"center\">Data Preprocessing \n",
    "</h1>\n",
    "<hr>\n",
    "<br>\n",
    "<br>"
   ]
  },
  {
   "cell_type": "markdown",
   "id": "d0e46981",
   "metadata": {},
   "source": [
    "<br>\n",
    "<h3>Spliting the dataset into trainig and testing</h3>\n",
    "<hr>\n",
    "\n",
    "<br>"
   ]
  },
  {
   "cell_type": "code",
   "execution_count": 14,
   "id": "0359e782",
   "metadata": {},
   "outputs": [],
   "source": [
    "from sklearn.model_selection import train_test_split"
   ]
  },
  {
   "cell_type": "code",
   "execution_count": 15,
   "id": "7de70a52",
   "metadata": {},
   "outputs": [],
   "source": [
    "X_train , X_test , y_train , y_test = train_test_split(X,y,test_size=0.1,random_state=0)"
   ]
  },
  {
   "cell_type": "code",
   "execution_count": 16,
   "id": "819864f7",
   "metadata": {},
   "outputs": [
    {
     "data": {
      "text/plain": [
       "(826, 11)"
      ]
     },
     "execution_count": 16,
     "metadata": {},
     "output_type": "execute_result"
    }
   ],
   "source": [
    "X_train.shape"
   ]
  },
  {
   "cell_type": "code",
   "execution_count": 17,
   "id": "c481aca8",
   "metadata": {},
   "outputs": [
    {
     "data": {
      "text/plain": [
       "(92, 11)"
      ]
     },
     "execution_count": 17,
     "metadata": {},
     "output_type": "execute_result"
    }
   ],
   "source": [
    "X_test.shape"
   ]
  },
  {
   "cell_type": "code",
   "execution_count": null,
   "id": "2dd16bc3",
   "metadata": {},
   "outputs": [],
   "source": []
  },
  {
   "cell_type": "code",
   "execution_count": 18,
   "id": "d19e3742",
   "metadata": {},
   "outputs": [
    {
     "name": "stdout",
     "output_type": "stream",
     "text": [
      "     age  sex  chest pain type  resting bp s  cholesterol  \\\n",
      "34    43    0                2           150          186   \n",
      "144   56    0                2           120          279   \n",
      "308   58    1                4           115            0   \n",
      "839   35    0                4           138          183   \n",
      "358   38    1                3           115            0   \n",
      "..   ...  ...              ...           ...          ...   \n",
      "835   54    1                4           110          239   \n",
      "192   48    1                2           130          245   \n",
      "629   57    0                4           128          303   \n",
      "559   64    1                4           134          273   \n",
      "684   47    1                3           108          243   \n",
      "\n",
      "     fasting blood sugar  resting ecg  max heart rate  exercise angina  \\\n",
      "34                     0            0             154                0   \n",
      "144                    0            0             150                0   \n",
      "308                    1            0             138                0   \n",
      "839                    0            0             182                0   \n",
      "358                    0            0             128                1   \n",
      "..                   ...          ...             ...              ...   \n",
      "835                    0            0             126                1   \n",
      "192                    0            0             160                0   \n",
      "629                    0            2             159                0   \n",
      "559                    0            0             102                1   \n",
      "684                    0            0             152                0   \n",
      "\n",
      "     oldpeak  ST slope  \n",
      "34       0.0       1.0  \n",
      "144      1.0       2.0  \n",
      "308      0.5       1.0  \n",
      "839      1.4       1.0  \n",
      "358      0.0       2.0  \n",
      "..       ...       ...  \n",
      "835      2.8       2.0  \n",
      "192      0.0       1.0  \n",
      "629      0.0       1.0  \n",
      "559      4.0       2.0  \n",
      "684      0.0       1.0  \n",
      "\n",
      "[826 rows x 11 columns]\n"
     ]
    }
   ],
   "source": [
    "print(X_train)"
   ]
  },
  {
   "cell_type": "code",
   "execution_count": null,
   "id": "0ac2bbed",
   "metadata": {},
   "outputs": [],
   "source": []
  },
  {
   "cell_type": "code",
   "execution_count": 19,
   "id": "5d49ad5f",
   "metadata": {},
   "outputs": [
    {
     "data": {
      "text/html": [
       "<div>\n",
       "<style scoped>\n",
       "    .dataframe tbody tr th:only-of-type {\n",
       "        vertical-align: middle;\n",
       "    }\n",
       "\n",
       "    .dataframe tbody tr th {\n",
       "        vertical-align: top;\n",
       "    }\n",
       "\n",
       "    .dataframe thead th {\n",
       "        text-align: right;\n",
       "    }\n",
       "</style>\n",
       "<table border=\"1\" class=\"dataframe\">\n",
       "  <thead>\n",
       "    <tr style=\"text-align: right;\">\n",
       "      <th></th>\n",
       "      <th>age</th>\n",
       "      <th>sex</th>\n",
       "      <th>chest pain type</th>\n",
       "      <th>resting bp s</th>\n",
       "      <th>cholesterol</th>\n",
       "      <th>fasting blood sugar</th>\n",
       "      <th>resting ecg</th>\n",
       "      <th>max heart rate</th>\n",
       "      <th>exercise angina</th>\n",
       "      <th>oldpeak</th>\n",
       "      <th>ST slope</th>\n",
       "    </tr>\n",
       "  </thead>\n",
       "  <tbody>\n",
       "    <tr>\n",
       "      <th>306</th>\n",
       "      <td>55</td>\n",
       "      <td>1</td>\n",
       "      <td>4</td>\n",
       "      <td>115</td>\n",
       "      <td>0</td>\n",
       "      <td>1</td>\n",
       "      <td>0</td>\n",
       "      <td>155</td>\n",
       "      <td>0</td>\n",
       "      <td>0.1</td>\n",
       "      <td>2.0</td>\n",
       "    </tr>\n",
       "    <tr>\n",
       "      <th>711</th>\n",
       "      <td>66</td>\n",
       "      <td>1</td>\n",
       "      <td>4</td>\n",
       "      <td>120</td>\n",
       "      <td>302</td>\n",
       "      <td>0</td>\n",
       "      <td>2</td>\n",
       "      <td>151</td>\n",
       "      <td>0</td>\n",
       "      <td>0.4</td>\n",
       "      <td>2.0</td>\n",
       "    </tr>\n",
       "    <tr>\n",
       "      <th>298</th>\n",
       "      <td>51</td>\n",
       "      <td>1</td>\n",
       "      <td>4</td>\n",
       "      <td>110</td>\n",
       "      <td>0</td>\n",
       "      <td>1</td>\n",
       "      <td>0</td>\n",
       "      <td>92</td>\n",
       "      <td>0</td>\n",
       "      <td>0.0</td>\n",
       "      <td>2.0</td>\n",
       "    </tr>\n",
       "    <tr>\n",
       "      <th>466</th>\n",
       "      <td>55</td>\n",
       "      <td>1</td>\n",
       "      <td>3</td>\n",
       "      <td>120</td>\n",
       "      <td>0</td>\n",
       "      <td>0</td>\n",
       "      <td>1</td>\n",
       "      <td>125</td>\n",
       "      <td>1</td>\n",
       "      <td>2.5</td>\n",
       "      <td>2.0</td>\n",
       "    </tr>\n",
       "    <tr>\n",
       "      <th>253</th>\n",
       "      <td>62</td>\n",
       "      <td>1</td>\n",
       "      <td>2</td>\n",
       "      <td>140</td>\n",
       "      <td>271</td>\n",
       "      <td>0</td>\n",
       "      <td>0</td>\n",
       "      <td>152</td>\n",
       "      <td>0</td>\n",
       "      <td>1.0</td>\n",
       "      <td>1.0</td>\n",
       "    </tr>\n",
       "    <tr>\n",
       "      <th>...</th>\n",
       "      <td>...</td>\n",
       "      <td>...</td>\n",
       "      <td>...</td>\n",
       "      <td>...</td>\n",
       "      <td>...</td>\n",
       "      <td>...</td>\n",
       "      <td>...</td>\n",
       "      <td>...</td>\n",
       "      <td>...</td>\n",
       "      <td>...</td>\n",
       "      <td>...</td>\n",
       "    </tr>\n",
       "    <tr>\n",
       "      <th>158</th>\n",
       "      <td>44</td>\n",
       "      <td>1</td>\n",
       "      <td>4</td>\n",
       "      <td>130</td>\n",
       "      <td>290</td>\n",
       "      <td>0</td>\n",
       "      <td>0</td>\n",
       "      <td>100</td>\n",
       "      <td>1</td>\n",
       "      <td>2.0</td>\n",
       "      <td>2.0</td>\n",
       "    </tr>\n",
       "    <tr>\n",
       "      <th>500</th>\n",
       "      <td>65</td>\n",
       "      <td>1</td>\n",
       "      <td>4</td>\n",
       "      <td>136</td>\n",
       "      <td>248</td>\n",
       "      <td>0</td>\n",
       "      <td>0</td>\n",
       "      <td>140</td>\n",
       "      <td>1</td>\n",
       "      <td>4.0</td>\n",
       "      <td>2.0</td>\n",
       "    </tr>\n",
       "    <tr>\n",
       "      <th>880</th>\n",
       "      <td>52</td>\n",
       "      <td>1</td>\n",
       "      <td>3</td>\n",
       "      <td>172</td>\n",
       "      <td>199</td>\n",
       "      <td>1</td>\n",
       "      <td>0</td>\n",
       "      <td>162</td>\n",
       "      <td>0</td>\n",
       "      <td>0.5</td>\n",
       "      <td>1.0</td>\n",
       "    </tr>\n",
       "    <tr>\n",
       "      <th>798</th>\n",
       "      <td>42</td>\n",
       "      <td>0</td>\n",
       "      <td>4</td>\n",
       "      <td>102</td>\n",
       "      <td>265</td>\n",
       "      <td>0</td>\n",
       "      <td>2</td>\n",
       "      <td>122</td>\n",
       "      <td>0</td>\n",
       "      <td>0.6</td>\n",
       "      <td>2.0</td>\n",
       "    </tr>\n",
       "    <tr>\n",
       "      <th>819</th>\n",
       "      <td>55</td>\n",
       "      <td>1</td>\n",
       "      <td>4</td>\n",
       "      <td>160</td>\n",
       "      <td>289</td>\n",
       "      <td>0</td>\n",
       "      <td>2</td>\n",
       "      <td>145</td>\n",
       "      <td>1</td>\n",
       "      <td>0.8</td>\n",
       "      <td>2.0</td>\n",
       "    </tr>\n",
       "  </tbody>\n",
       "</table>\n",
       "<p>92 rows × 11 columns</p>\n",
       "</div>"
      ],
      "text/plain": [
       "     age  sex  chest pain type  resting bp s  cholesterol  \\\n",
       "306   55    1                4           115            0   \n",
       "711   66    1                4           120          302   \n",
       "298   51    1                4           110            0   \n",
       "466   55    1                3           120            0   \n",
       "253   62    1                2           140          271   \n",
       "..   ...  ...              ...           ...          ...   \n",
       "158   44    1                4           130          290   \n",
       "500   65    1                4           136          248   \n",
       "880   52    1                3           172          199   \n",
       "798   42    0                4           102          265   \n",
       "819   55    1                4           160          289   \n",
       "\n",
       "     fasting blood sugar  resting ecg  max heart rate  exercise angina  \\\n",
       "306                    1            0             155                0   \n",
       "711                    0            2             151                0   \n",
       "298                    1            0              92                0   \n",
       "466                    0            1             125                1   \n",
       "253                    0            0             152                0   \n",
       "..                   ...          ...             ...              ...   \n",
       "158                    0            0             100                1   \n",
       "500                    0            0             140                1   \n",
       "880                    1            0             162                0   \n",
       "798                    0            2             122                0   \n",
       "819                    0            2             145                1   \n",
       "\n",
       "     oldpeak  ST slope  \n",
       "306      0.1       2.0  \n",
       "711      0.4       2.0  \n",
       "298      0.0       2.0  \n",
       "466      2.5       2.0  \n",
       "253      1.0       1.0  \n",
       "..       ...       ...  \n",
       "158      2.0       2.0  \n",
       "500      4.0       2.0  \n",
       "880      0.5       1.0  \n",
       "798      0.6       2.0  \n",
       "819      0.8       2.0  \n",
       "\n",
       "[92 rows x 11 columns]"
      ]
     },
     "execution_count": 19,
     "metadata": {},
     "output_type": "execute_result"
    }
   ],
   "source": [
    "X_test"
   ]
  },
  {
   "cell_type": "markdown",
   "id": "9fe88615",
   "metadata": {},
   "source": [
    "<br>\n",
    "<br>\n",
    "<h1 align=\"center\">Impelemention a ANN(Artificial Neural Network)</h1>\n",
    "<br>\n",
    "<br>\n",
    "<hr>"
   ]
  },
  {
   "cell_type": "code",
   "execution_count": 21,
   "id": "c3a2e145",
   "metadata": {},
   "outputs": [],
   "source": [
    "ann = Sequential()"
   ]
  },
  {
   "cell_type": "markdown",
   "id": "350f531d",
   "metadata": {},
   "source": [
    "### Adding hidden Layer"
   ]
  },
  {
   "cell_type": "code",
   "execution_count": 22,
   "id": "bc00d1c3",
   "metadata": {},
   "outputs": [],
   "source": [
    "ann.add(Dense(units =128, activation = \"relu\"))"
   ]
  },
  {
   "cell_type": "markdown",
   "id": "e68c980b",
   "metadata": {},
   "source": [
    "### Adding hidden Layer"
   ]
  },
  {
   "cell_type": "code",
   "execution_count": 23,
   "id": "27b4fe1b",
   "metadata": {},
   "outputs": [],
   "source": [
    "ann.add(Dense(activation = \"relu\", units =128))"
   ]
  },
  {
   "cell_type": "markdown",
   "id": "cf52d28e",
   "metadata": {},
   "source": [
    "### Adding Output layer"
   ]
  },
  {
   "cell_type": "code",
   "execution_count": 24,
   "id": "8781a9d2",
   "metadata": {},
   "outputs": [],
   "source": [
    "ann.add(Dense(activation = \"sigmoid\", units = 1))"
   ]
  },
  {
   "cell_type": "markdown",
   "id": "1898d524",
   "metadata": {},
   "source": [
    "### Adding optimizar"
   ]
  },
  {
   "cell_type": "code",
   "execution_count": 25,
   "id": "f7ac3b2d",
   "metadata": {},
   "outputs": [],
   "source": [
    "ann.compile(optimizer = 'adam' , loss = 'binary_crossentropy',metrics = ['accuracy'] )"
   ]
  },
  {
   "cell_type": "markdown",
   "id": "f46659f3",
   "metadata": {},
   "source": [
    "### Trainig a Model"
   ]
  },
  {
   "cell_type": "code",
   "execution_count": 26,
   "id": "ab430fce",
   "metadata": {},
   "outputs": [
    {
     "name": "stdout",
     "output_type": "stream",
     "text": [
      "Epoch 1/150\n",
      "26/26 [==============================] - 1s 3ms/step - loss: 1.2336 - accuracy: 0.6235\n",
      "Epoch 2/150\n",
      "26/26 [==============================] - 0s 4ms/step - loss: 0.7507 - accuracy: 0.6901\n",
      "Epoch 3/150\n",
      "26/26 [==============================] - 0s 4ms/step - loss: 0.6151 - accuracy: 0.7203\n",
      "Epoch 4/150\n",
      "26/26 [==============================] - 0s 3ms/step - loss: 0.6130 - accuracy: 0.7324\n",
      "Epoch 5/150\n",
      "26/26 [==============================] - 0s 3ms/step - loss: 0.6843 - accuracy: 0.6646\n",
      "Epoch 6/150\n",
      "26/26 [==============================] - 0s 3ms/step - loss: 0.6071 - accuracy: 0.7155\n",
      "Epoch 7/150\n",
      "26/26 [==============================] - 0s 3ms/step - loss: 0.5942 - accuracy: 0.7167\n",
      "Epoch 8/150\n",
      "26/26 [==============================] - 0s 3ms/step - loss: 0.6229 - accuracy: 0.7155\n",
      "Epoch 9/150\n",
      "26/26 [==============================] - 0s 3ms/step - loss: 0.5454 - accuracy: 0.7482\n",
      "Epoch 10/150\n",
      "26/26 [==============================] - 0s 3ms/step - loss: 0.6564 - accuracy: 0.7058\n",
      "Epoch 11/150\n",
      "26/26 [==============================] - 0s 3ms/step - loss: 0.5598 - accuracy: 0.7458\n",
      "Epoch 12/150\n",
      "26/26 [==============================] - 0s 3ms/step - loss: 0.5813 - accuracy: 0.7433\n",
      "Epoch 13/150\n",
      "26/26 [==============================] - 0s 3ms/step - loss: 0.5429 - accuracy: 0.7506\n",
      "Epoch 14/150\n",
      "26/26 [==============================] - 0s 3ms/step - loss: 0.4623 - accuracy: 0.7869\n",
      "Epoch 15/150\n",
      "26/26 [==============================] - 0s 3ms/step - loss: 0.4790 - accuracy: 0.7942\n",
      "Epoch 16/150\n",
      "26/26 [==============================] - 0s 3ms/step - loss: 0.4061 - accuracy: 0.8305\n",
      "Epoch 17/150\n",
      "26/26 [==============================] - 0s 3ms/step - loss: 0.4175 - accuracy: 0.8269\n",
      "Epoch 18/150\n",
      "26/26 [==============================] - 0s 4ms/step - loss: 0.4617 - accuracy: 0.7930\n",
      "Epoch 19/150\n",
      "26/26 [==============================] - 0s 5ms/step - loss: 0.4010 - accuracy: 0.8184\n",
      "Epoch 20/150\n",
      "26/26 [==============================] - 0s 4ms/step - loss: 0.4073 - accuracy: 0.8232\n",
      "Epoch 21/150\n",
      "26/26 [==============================] - 0s 3ms/step - loss: 0.4161 - accuracy: 0.8087\n",
      "Epoch 22/150\n",
      "26/26 [==============================] - 0s 3ms/step - loss: 0.6591 - accuracy: 0.7240\n",
      "Epoch 23/150\n",
      "26/26 [==============================] - 0s 4ms/step - loss: 0.5113 - accuracy: 0.7978\n",
      "Epoch 24/150\n",
      "26/26 [==============================] - 0s 4ms/step - loss: 0.4838 - accuracy: 0.7978\n",
      "Epoch 25/150\n",
      "26/26 [==============================] - 0s 4ms/step - loss: 0.4337 - accuracy: 0.7930\n",
      "Epoch 26/150\n",
      "26/26 [==============================] - 0s 4ms/step - loss: 0.4904 - accuracy: 0.7918\n",
      "Epoch 27/150\n",
      "26/26 [==============================] - 0s 3ms/step - loss: 0.5144 - accuracy: 0.7809\n",
      "Epoch 28/150\n",
      "26/26 [==============================] - 0s 3ms/step - loss: 0.4344 - accuracy: 0.8208\n",
      "Epoch 29/150\n",
      "26/26 [==============================] - 0s 3ms/step - loss: 0.4772 - accuracy: 0.8015\n",
      "Epoch 30/150\n",
      "26/26 [==============================] - 0s 3ms/step - loss: 0.4699 - accuracy: 0.8087\n",
      "Epoch 31/150\n",
      "26/26 [==============================] - 0s 3ms/step - loss: 0.4212 - accuracy: 0.8232\n",
      "Epoch 32/150\n",
      "26/26 [==============================] - 0s 3ms/step - loss: 0.4207 - accuracy: 0.8123\n",
      "Epoch 33/150\n",
      "26/26 [==============================] - 0s 3ms/step - loss: 0.4066 - accuracy: 0.8220\n",
      "Epoch 34/150\n",
      "26/26 [==============================] - 0s 3ms/step - loss: 0.4254 - accuracy: 0.8136\n",
      "Epoch 35/150\n",
      "26/26 [==============================] - 0s 3ms/step - loss: 0.4573 - accuracy: 0.7942\n",
      "Epoch 36/150\n",
      "26/26 [==============================] - 0s 3ms/step - loss: 0.3946 - accuracy: 0.8462\n",
      "Epoch 37/150\n",
      "26/26 [==============================] - 0s 3ms/step - loss: 0.4550 - accuracy: 0.8184\n",
      "Epoch 38/150\n",
      "26/26 [==============================] - 0s 4ms/step - loss: 0.3865 - accuracy: 0.8305\n",
      "Epoch 39/150\n",
      "26/26 [==============================] - 0s 3ms/step - loss: 0.4896 - accuracy: 0.8027\n",
      "Epoch 40/150\n",
      "26/26 [==============================] - 0s 3ms/step - loss: 0.5604 - accuracy: 0.7821\n",
      "Epoch 41/150\n",
      "26/26 [==============================] - 0s 3ms/step - loss: 0.4831 - accuracy: 0.7966\n",
      "Epoch 42/150\n",
      "26/26 [==============================] - 0s 3ms/step - loss: 0.4325 - accuracy: 0.8208\n",
      "Epoch 43/150\n",
      "26/26 [==============================] - 0s 5ms/step - loss: 0.4481 - accuracy: 0.8196\n",
      "Epoch 44/150\n",
      "26/26 [==============================] - 0s 4ms/step - loss: 0.4590 - accuracy: 0.8002\n",
      "Epoch 45/150\n",
      "26/26 [==============================] - 0s 4ms/step - loss: 0.3959 - accuracy: 0.8269\n",
      "Epoch 46/150\n",
      "26/26 [==============================] - 0s 3ms/step - loss: 0.4117 - accuracy: 0.8232\n",
      "Epoch 47/150\n",
      "26/26 [==============================] - 0s 4ms/step - loss: 0.4073 - accuracy: 0.8232\n",
      "Epoch 48/150\n",
      "26/26 [==============================] - 0s 3ms/step - loss: 0.4149 - accuracy: 0.8390\n",
      "Epoch 49/150\n",
      "26/26 [==============================] - 0s 3ms/step - loss: 0.3888 - accuracy: 0.8414\n",
      "Epoch 50/150\n",
      "26/26 [==============================] - 0s 3ms/step - loss: 0.4164 - accuracy: 0.8317\n",
      "Epoch 51/150\n",
      "26/26 [==============================] - 0s 4ms/step - loss: 0.3891 - accuracy: 0.8354\n",
      "Epoch 52/150\n",
      "26/26 [==============================] - 0s 4ms/step - loss: 0.4123 - accuracy: 0.8426\n",
      "Epoch 53/150\n",
      "26/26 [==============================] - 0s 4ms/step - loss: 0.3854 - accuracy: 0.8354\n",
      "Epoch 54/150\n",
      "26/26 [==============================] - 0s 4ms/step - loss: 0.3914 - accuracy: 0.8366\n",
      "Epoch 55/150\n",
      "26/26 [==============================] - 0s 3ms/step - loss: 0.3907 - accuracy: 0.8378\n",
      "Epoch 56/150\n",
      "26/26 [==============================] - 0s 4ms/step - loss: 0.3726 - accuracy: 0.8366\n",
      "Epoch 57/150\n",
      "26/26 [==============================] - 0s 3ms/step - loss: 0.4451 - accuracy: 0.8184\n",
      "Epoch 58/150\n",
      "26/26 [==============================] - 0s 5ms/step - loss: 0.5158 - accuracy: 0.8027\n",
      "Epoch 59/150\n",
      "26/26 [==============================] - 0s 5ms/step - loss: 0.4860 - accuracy: 0.7869\n",
      "Epoch 60/150\n",
      "26/26 [==============================] - 0s 3ms/step - loss: 0.3639 - accuracy: 0.8511\n",
      "Epoch 61/150\n",
      "26/26 [==============================] - 0s 3ms/step - loss: 0.3704 - accuracy: 0.8390\n",
      "Epoch 62/150\n",
      "26/26 [==============================] - 0s 5ms/step - loss: 0.3504 - accuracy: 0.8547\n",
      "Epoch 63/150\n",
      "26/26 [==============================] - 0s 5ms/step - loss: 0.3706 - accuracy: 0.8341\n",
      "Epoch 64/150\n",
      "26/26 [==============================] - 0s 4ms/step - loss: 0.4586 - accuracy: 0.8075\n",
      "Epoch 65/150\n",
      "26/26 [==============================] - 0s 4ms/step - loss: 0.3646 - accuracy: 0.8487\n",
      "Epoch 66/150\n",
      "26/26 [==============================] - 0s 3ms/step - loss: 0.3941 - accuracy: 0.8390\n",
      "Epoch 67/150\n",
      "26/26 [==============================] - 0s 4ms/step - loss: 0.3934 - accuracy: 0.8366\n",
      "Epoch 68/150\n",
      "26/26 [==============================] - 0s 4ms/step - loss: 0.4064 - accuracy: 0.8317\n",
      "Epoch 69/150\n",
      "26/26 [==============================] - 0s 4ms/step - loss: 0.3681 - accuracy: 0.8450\n",
      "Epoch 70/150\n",
      "26/26 [==============================] - 0s 3ms/step - loss: 0.3470 - accuracy: 0.8559\n",
      "Epoch 71/150\n",
      "26/26 [==============================] - 0s 4ms/step - loss: 0.3725 - accuracy: 0.8366\n",
      "Epoch 72/150\n",
      "26/26 [==============================] - 0s 3ms/step - loss: 0.4067 - accuracy: 0.8220\n",
      "Epoch 73/150\n",
      "26/26 [==============================] - 0s 3ms/step - loss: 0.4535 - accuracy: 0.8002\n",
      "Epoch 74/150\n",
      "26/26 [==============================] - 0s 4ms/step - loss: 0.3531 - accuracy: 0.8559\n",
      "Epoch 75/150\n",
      "26/26 [==============================] - 0s 3ms/step - loss: 0.3498 - accuracy: 0.8596\n",
      "Epoch 76/150\n",
      "26/26 [==============================] - 0s 4ms/step - loss: 0.3818 - accuracy: 0.8402\n",
      "Epoch 77/150\n",
      "26/26 [==============================] - 0s 3ms/step - loss: 0.3888 - accuracy: 0.8366\n",
      "Epoch 78/150\n",
      "26/26 [==============================] - 0s 4ms/step - loss: 0.3868 - accuracy: 0.8402\n",
      "Epoch 79/150\n",
      "26/26 [==============================] - 0s 3ms/step - loss: 0.3878 - accuracy: 0.8378\n",
      "Epoch 80/150\n",
      "26/26 [==============================] - 0s 3ms/step - loss: 0.4306 - accuracy: 0.8245\n",
      "Epoch 81/150\n",
      "26/26 [==============================] - 0s 3ms/step - loss: 0.3318 - accuracy: 0.8717\n",
      "Epoch 82/150\n",
      "26/26 [==============================] - 0s 4ms/step - loss: 0.4108 - accuracy: 0.8341\n",
      "Epoch 83/150\n"
     ]
    },
    {
     "name": "stdout",
     "output_type": "stream",
     "text": [
      "26/26 [==============================] - 0s 4ms/step - loss: 0.3506 - accuracy: 0.8499\n",
      "Epoch 84/150\n",
      "26/26 [==============================] - 0s 3ms/step - loss: 0.4128 - accuracy: 0.8414\n",
      "Epoch 85/150\n",
      "26/26 [==============================] - 0s 3ms/step - loss: 0.4411 - accuracy: 0.8196\n",
      "Epoch 86/150\n",
      "26/26 [==============================] - 0s 3ms/step - loss: 0.4591 - accuracy: 0.8087\n",
      "Epoch 87/150\n",
      "26/26 [==============================] - 0s 4ms/step - loss: 0.3517 - accuracy: 0.8620\n",
      "Epoch 88/150\n",
      "26/26 [==============================] - 0s 4ms/step - loss: 0.3483 - accuracy: 0.8511\n",
      "Epoch 89/150\n",
      "26/26 [==============================] - 0s 3ms/step - loss: 0.3768 - accuracy: 0.8438\n",
      "Epoch 90/150\n",
      "26/26 [==============================] - 0s 3ms/step - loss: 0.3681 - accuracy: 0.8402\n",
      "Epoch 91/150\n",
      "26/26 [==============================] - 0s 3ms/step - loss: 0.3748 - accuracy: 0.8499\n",
      "Epoch 92/150\n",
      "26/26 [==============================] - 0s 3ms/step - loss: 0.4069 - accuracy: 0.8232\n",
      "Epoch 93/150\n",
      "26/26 [==============================] - 0s 3ms/step - loss: 0.3857 - accuracy: 0.8305\n",
      "Epoch 94/150\n",
      "26/26 [==============================] - 0s 3ms/step - loss: 0.3603 - accuracy: 0.8378\n",
      "Epoch 95/150\n",
      "26/26 [==============================] - 0s 3ms/step - loss: 0.3548 - accuracy: 0.8571\n",
      "Epoch 96/150\n",
      "26/26 [==============================] - 0s 4ms/step - loss: 0.4369 - accuracy: 0.8245\n",
      "Epoch 97/150\n",
      "26/26 [==============================] - 0s 3ms/step - loss: 0.3524 - accuracy: 0.8487\n",
      "Epoch 98/150\n",
      "26/26 [==============================] - 0s 3ms/step - loss: 0.3382 - accuracy: 0.8717\n",
      "Epoch 99/150\n",
      "26/26 [==============================] - 0s 3ms/step - loss: 0.3268 - accuracy: 0.8656\n",
      "Epoch 100/150\n",
      "26/26 [==============================] - 0s 3ms/step - loss: 0.3614 - accuracy: 0.8571\n",
      "Epoch 101/150\n",
      "26/26 [==============================] - 0s 3ms/step - loss: 0.3414 - accuracy: 0.8499\n",
      "Epoch 102/150\n",
      "26/26 [==============================] - 0s 3ms/step - loss: 0.3254 - accuracy: 0.8656\n",
      "Epoch 103/150\n",
      "26/26 [==============================] - 0s 5ms/step - loss: 0.3547 - accuracy: 0.8426\n",
      "Epoch 104/150\n",
      "26/26 [==============================] - 0s 3ms/step - loss: 0.3524 - accuracy: 0.8596\n",
      "Epoch 105/150\n",
      "26/26 [==============================] - 0s 4ms/step - loss: 0.3736 - accuracy: 0.8438\n",
      "Epoch 106/150\n",
      "26/26 [==============================] - 0s 3ms/step - loss: 0.3927 - accuracy: 0.8317\n",
      "Epoch 107/150\n",
      "26/26 [==============================] - 0s 3ms/step - loss: 0.3546 - accuracy: 0.8559\n",
      "Epoch 108/150\n",
      "26/26 [==============================] - 0s 3ms/step - loss: 0.3497 - accuracy: 0.8535\n",
      "Epoch 109/150\n",
      "26/26 [==============================] - 0s 3ms/step - loss: 0.4017 - accuracy: 0.8402\n",
      "Epoch 110/150\n",
      "26/26 [==============================] - 0s 4ms/step - loss: 0.4569 - accuracy: 0.8099\n",
      "Epoch 111/150\n",
      "26/26 [==============================] - 0s 3ms/step - loss: 0.4192 - accuracy: 0.8184\n",
      "Epoch 112/150\n",
      "26/26 [==============================] - 0s 3ms/step - loss: 0.4764 - accuracy: 0.7893\n",
      "Epoch 113/150\n",
      "26/26 [==============================] - 0s 3ms/step - loss: 0.4502 - accuracy: 0.8196\n",
      "Epoch 114/150\n",
      "26/26 [==============================] - 0s 3ms/step - loss: 0.3401 - accuracy: 0.8535\n",
      "Epoch 115/150\n",
      "26/26 [==============================] - 0s 3ms/step - loss: 0.3307 - accuracy: 0.8596\n",
      "Epoch 116/150\n",
      "26/26 [==============================] - 0s 3ms/step - loss: 0.3368 - accuracy: 0.8620\n",
      "Epoch 117/150\n",
      "26/26 [==============================] - 0s 3ms/step - loss: 0.3588 - accuracy: 0.8608\n",
      "Epoch 118/150\n",
      "26/26 [==============================] - 0s 3ms/step - loss: 0.3815 - accuracy: 0.8511\n",
      "Epoch 119/150\n",
      "26/26 [==============================] - 0s 4ms/step - loss: 0.3469 - accuracy: 0.8487\n",
      "Epoch 120/150\n",
      "26/26 [==============================] - 0s 3ms/step - loss: 0.3196 - accuracy: 0.8656\n",
      "Epoch 121/150\n",
      "26/26 [==============================] - 0s 3ms/step - loss: 0.3495 - accuracy: 0.8475\n",
      "Epoch 122/150\n",
      "26/26 [==============================] - 0s 3ms/step - loss: 0.3323 - accuracy: 0.8523\n",
      "Epoch 123/150\n",
      "26/26 [==============================] - 0s 3ms/step - loss: 0.3389 - accuracy: 0.8644\n",
      "Epoch 124/150\n",
      "26/26 [==============================] - 0s 3ms/step - loss: 0.3356 - accuracy: 0.8632\n",
      "Epoch 125/150\n",
      "26/26 [==============================] - 0s 3ms/step - loss: 0.3309 - accuracy: 0.8644\n",
      "Epoch 126/150\n",
      "26/26 [==============================] - 0s 4ms/step - loss: 0.4040 - accuracy: 0.8329\n",
      "Epoch 127/150\n",
      "26/26 [==============================] - 0s 3ms/step - loss: 0.4592 - accuracy: 0.8148\n",
      "Epoch 128/150\n",
      "26/26 [==============================] - 0s 3ms/step - loss: 0.3379 - accuracy: 0.8680\n",
      "Epoch 129/150\n",
      "26/26 [==============================] - 0s 3ms/step - loss: 0.3522 - accuracy: 0.8511\n",
      "Epoch 130/150\n",
      "26/26 [==============================] - 0s 3ms/step - loss: 0.3386 - accuracy: 0.8608\n",
      "Epoch 131/150\n",
      "26/26 [==============================] - 0s 3ms/step - loss: 0.3700 - accuracy: 0.8341\n",
      "Epoch 132/150\n",
      "26/26 [==============================] - 0s 3ms/step - loss: 0.3854 - accuracy: 0.8390\n",
      "Epoch 133/150\n",
      "26/26 [==============================] - 0s 3ms/step - loss: 0.3339 - accuracy: 0.8596\n",
      "Epoch 134/150\n",
      "26/26 [==============================] - 0s 3ms/step - loss: 0.3165 - accuracy: 0.8596\n",
      "Epoch 135/150\n",
      "26/26 [==============================] - 0s 3ms/step - loss: 0.3522 - accuracy: 0.8584\n",
      "Epoch 136/150\n",
      "26/26 [==============================] - 0s 3ms/step - loss: 0.3194 - accuracy: 0.8692\n",
      "Epoch 137/150\n",
      "26/26 [==============================] - 0s 3ms/step - loss: 0.3405 - accuracy: 0.8487\n",
      "Epoch 138/150\n",
      "26/26 [==============================] - 0s 3ms/step - loss: 0.3359 - accuracy: 0.8692\n",
      "Epoch 139/150\n",
      "26/26 [==============================] - 0s 3ms/step - loss: 0.3435 - accuracy: 0.8596\n",
      "Epoch 140/150\n",
      "26/26 [==============================] - 0s 3ms/step - loss: 0.3315 - accuracy: 0.8596\n",
      "Epoch 141/150\n",
      "26/26 [==============================] - 0s 3ms/step - loss: 0.3099 - accuracy: 0.8777\n",
      "Epoch 142/150\n",
      "26/26 [==============================] - 0s 3ms/step - loss: 0.3590 - accuracy: 0.8511\n",
      "Epoch 143/150\n",
      "26/26 [==============================] - 0s 4ms/step - loss: 0.3895 - accuracy: 0.8402\n",
      "Epoch 144/150\n",
      "26/26 [==============================] - 0s 3ms/step - loss: 0.3559 - accuracy: 0.8450\n",
      "Epoch 145/150\n",
      "26/26 [==============================] - 0s 3ms/step - loss: 0.3086 - accuracy: 0.8620\n",
      "Epoch 146/150\n",
      "26/26 [==============================] - 0s 3ms/step - loss: 0.3140 - accuracy: 0.8668\n",
      "Epoch 147/150\n",
      "26/26 [==============================] - 0s 4ms/step - loss: 0.3326 - accuracy: 0.8596\n",
      "Epoch 148/150\n",
      "26/26 [==============================] - 0s 3ms/step - loss: 0.3549 - accuracy: 0.8535\n",
      "Epoch 149/150\n",
      "26/26 [==============================] - 0s 3ms/step - loss: 0.3385 - accuracy: 0.8632\n",
      "Epoch 150/150\n",
      "26/26 [==============================] - 0s 3ms/step - loss: 0.3561 - accuracy: 0.8426\n"
     ]
    }
   ],
   "source": [
    "model = ann.fit(X_train , y_train , batch_size =32 ,epochs = 150 ,use_multiprocessing=True)"
   ]
  },
  {
   "cell_type": "code",
   "execution_count": 27,
   "id": "d92c8201",
   "metadata": {},
   "outputs": [
    {
     "name": "stdout",
     "output_type": "stream",
     "text": [
      "3/3 [==============================] - 0s 2ms/step\n"
     ]
    }
   ],
   "source": [
    "y_pred =ann.predict(X_test)\n",
    "y_pred = y_pred > 0.5"
   ]
  },
  {
   "cell_type": "code",
   "execution_count": 29,
   "id": "5509310c",
   "metadata": {},
   "outputs": [
    {
     "data": {
      "text/plain": [
       "83.69565217391305"
      ]
     },
     "execution_count": 29,
     "metadata": {},
     "output_type": "execute_result"
    }
   ],
   "source": [
    "from sklearn.metrics import accuracy_score\n",
    "accuracy_score(y_test, y_pred) * 100"
   ]
  },
  {
   "cell_type": "markdown",
   "id": "1149c155",
   "metadata": {},
   "source": [
    "### Confusion Matrix"
   ]
  },
  {
   "cell_type": "code",
   "execution_count": 30,
   "id": "394795e1",
   "metadata": {},
   "outputs": [
    {
     "data": {
      "text/plain": [
       "array([[27, 13],\n",
       "       [ 2, 50]])"
      ]
     },
     "execution_count": 30,
     "metadata": {},
     "output_type": "execute_result"
    }
   ],
   "source": [
    "cm = confusion_matrix(y_test,y_pred)\n",
    "cm"
   ]
  },
  {
   "cell_type": "code",
   "execution_count": null,
   "id": "d2af7da7",
   "metadata": {},
   "outputs": [],
   "source": []
  },
  {
   "cell_type": "code",
   "execution_count": 31,
   "id": "5c331079",
   "metadata": {},
   "outputs": [
    {
     "name": "stdout",
     "output_type": "stream",
     "text": [
      "1/1 [==============================] - 0s 81ms/step\n",
      "[[0.3521482]]\n"
     ]
    }
   ],
   "source": [
    "b=ann.predict([[40,1,2,140,289,0,0,172,0,2.0,1]])\n",
    "print(b)"
   ]
  },
  {
   "cell_type": "code",
   "execution_count": 32,
   "id": "7f6c9ec4",
   "metadata": {},
   "outputs": [
    {
     "name": "stdout",
     "output_type": "stream",
     "text": [
      "0\n"
     ]
    }
   ],
   "source": [
    "if b[0] >= 0.5:\n",
    "    print(1)\n",
    "else:\n",
    "    print(0)"
   ]
  },
  {
   "cell_type": "code",
   "execution_count": 33,
   "id": "a8cedfe7",
   "metadata": {},
   "outputs": [
    {
     "name": "stdout",
     "output_type": "stream",
     "text": [
      "1/1 [==============================] - 0s 38ms/step\n"
     ]
    }
   ],
   "source": [
    "c=ann.predict([[49,0,3,160,180,0,0,156,0,1.0,2]])"
   ]
  },
  {
   "cell_type": "code",
   "execution_count": 34,
   "id": "53b83b72",
   "metadata": {},
   "outputs": [
    {
     "name": "stdout",
     "output_type": "stream",
     "text": [
      "[[0.49346635]]\n"
     ]
    }
   ],
   "source": [
    "print(c)"
   ]
  },
  {
   "cell_type": "code",
   "execution_count": 35,
   "id": "5cb7b635",
   "metadata": {},
   "outputs": [
    {
     "name": "stdout",
     "output_type": "stream",
     "text": [
      "1/1 [==============================] - 0s 36ms/step\n"
     ]
    }
   ],
   "source": [
    "d = ann.predict([[49,3,3,140,180,1,1,156,1,1.0,2]])"
   ]
  },
  {
   "cell_type": "code",
   "execution_count": 36,
   "id": "720ef94b",
   "metadata": {},
   "outputs": [
    {
     "name": "stdout",
     "output_type": "stream",
     "text": [
      "1\n"
     ]
    }
   ],
   "source": [
    "if d[0] >=0.5:\n",
    "    print(1)\n",
    "else:\n",
    "    print(0)"
   ]
  },
  {
   "cell_type": "code",
   "execution_count": 37,
   "id": "683100a0",
   "metadata": {},
   "outputs": [
    {
     "name": "stdout",
     "output_type": "stream",
     "text": [
      "1/1 [==============================] - 0s 38ms/step\n"
     ]
    },
    {
     "data": {
      "text/plain": [
       "array([[0.18816692]], dtype=float32)"
      ]
     },
     "execution_count": 37,
     "metadata": {},
     "output_type": "execute_result"
    }
   ],
   "source": [
    "ann.predict([[54,1,3,150,195,0,0,122,0,0.0,1.0]])"
   ]
  },
  {
   "cell_type": "code",
   "execution_count": 38,
   "id": "2e6125f4",
   "metadata": {},
   "outputs": [
    {
     "name": "stdout",
     "output_type": "stream",
     "text": [
      "1/1 [==============================] - 0s 63ms/step\n"
     ]
    },
    {
     "data": {
      "text/plain": [
       "array([[0.91364384]], dtype=float32)"
      ]
     },
     "execution_count": 38,
     "metadata": {},
     "output_type": "execute_result"
    }
   ],
   "source": [
    "ann.predict([[49,1,1,150,170,1,1,156,1,1.0,2.0]])"
   ]
  },
  {
   "cell_type": "code",
   "execution_count": 39,
   "id": "fe64a368",
   "metadata": {},
   "outputs": [
    {
     "name": "stdout",
     "output_type": "stream",
     "text": [
      "1/1 [==============================] - 0s 38ms/step\n"
     ]
    },
    {
     "data": {
      "text/plain": [
       "array([[0.15670992]], dtype=float32)"
      ]
     },
     "execution_count": 39,
     "metadata": {},
     "output_type": "execute_result"
    }
   ],
   "source": [
    "ann.predict([[37,1,2,130,283,0,1,98,0,0.0,1.0]])"
   ]
  },
  {
   "cell_type": "code",
   "execution_count": null,
   "id": "3403654f",
   "metadata": {},
   "outputs": [],
   "source": []
  },
  {
   "cell_type": "code",
   "execution_count": 40,
   "id": "35616e50",
   "metadata": {},
   "outputs": [
    {
     "name": "stdout",
     "output_type": "stream",
     "text": [
      "1/1 [==============================] - 0s 37ms/step\n"
     ]
    },
    {
     "data": {
      "text/plain": [
       "array([[0.18816692]], dtype=float32)"
      ]
     },
     "execution_count": 40,
     "metadata": {},
     "output_type": "execute_result"
    }
   ],
   "source": [
    "ann.predict([[54,1,3,150,195,0,0,122,0,0.0,1.0]])"
   ]
  },
  {
   "cell_type": "code",
   "execution_count": 41,
   "id": "0d828bdd",
   "metadata": {},
   "outputs": [
    {
     "name": "stdout",
     "output_type": "stream",
     "text": [
      "1/1 [==============================] - 0s 40ms/step\n"
     ]
    },
    {
     "data": {
      "text/plain": [
       "array([[0.9469778]], dtype=float32)"
      ]
     },
     "execution_count": 41,
     "metadata": {},
     "output_type": "execute_result"
    }
   ],
   "source": [
    "ann.predict([[48,0,4,138,214,0,0,108,1,1.5,2.0]])"
   ]
  },
  {
   "cell_type": "code",
   "execution_count": 42,
   "id": "a9a13e24",
   "metadata": {},
   "outputs": [
    {
     "data": {
      "image/png": "[encoded data removed]",
      "text/plain": [
       "<Figure size 432x288 with 1 Axes>"
      ]
     },
     "metadata": {
      "needs_background": "light"
     },
     "output_type": "display_data"
    }
   ],
   "source": [
    "plt.plot(model.history['accuracy'])\n",
    "plt.title('model accuracy')\n",
    "plt.ylabel('accuracy')\n",
    "plt.xlabel('epoch')\n",
    "plt.ylim((0, 1))\n",
    "plt.legend(['train', 'test'], loc='upper left');"
   ]
  },
  {
   "cell_type": "code",
   "execution_count": 43,
   "id": "0df93a5b",
   "metadata": {},
   "outputs": [
    {
     "data": {
      "image/png": "[encoded data removed]",
      "text/plain": [
       "<Figure size 432x288 with 1 Axes>"
      ]
     },
     "metadata": {
      "needs_background": "light"
     },
     "output_type": "display_data"
    }
   ],
   "source": [
    "plt.plot(model.history['loss'])\n",
    "plt.title('model loss')\n",
    "plt.ylabel('loss')\n",
    "plt.xlabel('epoch')\n",
    "plt.legend(['train', 'test'], loc='upper left')\n",
    "plt.show()"
   ]
  },
  {
   "cell_type": "code",
   "execution_count": null,
   "id": "e1535933",
   "metadata": {},
   "outputs": [],
   "source": [
    "# import pickle"
   ]
  },
  {
   "cell_type": "code",
   "execution_count": null,
   "id": "67f67604",
   "metadata": {},
   "outputs": [],
   "source": [
    "# pickle.dump(ann , open('heart.pkl','wb'))"
   ]
  },
  {
   "cell_type": "code",
   "execution_count": null,
   "id": "2258d78c",
   "metadata": {},
   "outputs": [],
   "source": []
  }
 ],
 "metadata": {
  "kernelspec": {
   "display_name": "Python 3 (ipykernel)",
   "language": "python",
   "name": "python3"
  },
  "language_info": {
   "codemirror_mode": {
    "name": "ipython",
    "version": 3
   },
   "file_extension": ".py",
   "mimetype": "text/x-python",
   "name": "python",
   "nbconvert_exporter": "python",
   "pygments_lexer": "ipython3",
   "version": "3.10.6"
  }
 },
 "nbformat": 4,
 "nbformat_minor": 5
}
